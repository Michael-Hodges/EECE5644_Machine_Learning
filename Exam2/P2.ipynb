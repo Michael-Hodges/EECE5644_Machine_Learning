{
 "cells": [
  {
   "cell_type": "code",
   "execution_count": 2,
   "metadata": {},
   "outputs": [],
   "source": [
    "import numpy as np\n",
    "import matplotlib.pyplot as plt\n",
    "from mpl_toolkits.mplot3d import Axes3D\n",
    "from scipy.stats import multivariate_normal\n",
    "from sklearn.metrics import confusion_matrix"
   ]
  },
  {
   "cell_type": "code",
   "execution_count": 3,
   "metadata": {},
   "outputs": [],
   "source": [
    "Xtrain = np.loadtxt('Q2_train_Data', delimiter = ',') # shape (2, 1000)\n",
    "Xtest = np.loadtxt('Q2_test_Data', delimiter = ',') # shape (2, 10000)"
   ]
  },
  {
   "cell_type": "code",
   "execution_count": 4,
   "metadata": {
    "scrolled": false
   },
   "outputs": [
    {
     "data": {
      "text/plain": [
       "[<matplotlib.lines.Line2D at 0x1a1a407b50>]"
      ]
     },
     "execution_count": 4,
     "metadata": {},
     "output_type": "execute_result"
    },
    {
     "data": {
      "image/png": "[encoded data removed]",
      "text/plain": [
       "<Figure size 432x288 with 2 Axes>"
      ]
     },
     "metadata": {
      "needs_background": "light"
     },
     "output_type": "display_data"
    }
   ],
   "source": [
    "# Verify data matches that in matlab\n",
    "#Xtrain[0,:] x values, Xtrain[1,:] y values\n",
    "plt.subplot(121)\n",
    "plt.plot(Xtrain[0,:],Xtrain[1,:],'.')\n",
    "plt.subplot(122)\n",
    "plt.plot(Xtest[0,:], Xtest[1,:],'.')"
   ]
  },
  {
   "cell_type": "code",
   "execution_count": 5,
   "metadata": {},
   "outputs": [
    {
     "name": "stderr",
     "output_type": "stream",
     "text": [
      "Using TensorFlow backend.\n"
     ]
    }
   ],
   "source": [
    "import keras\n",
    "from keras.models import Sequential\n",
    "from keras.layers import Dense, Dropout, Activation\n",
    "from keras.optimizers import SGD\n",
    "from sklearn.model_selection import KFold"
   ]
  },
  {
   "cell_type": "code",
   "execution_count": null,
   "metadata": {
    "scrolled": true
   },
   "outputs": [],
   "source": [
    "#training\n",
    "accuracy = np.zeros((10,10))\n",
    "accuracy2 = np.zeros((2,10,10))\n",
    "x_data = Xtrain[0,:]\n",
    "y_data = Xtrain[1,:]\n",
    "kf = KFold(n_splits=10)\n",
    "nonlin = ['sigmoid', 'softplus']\n",
    "l = 0\n",
    "for activationChoice in nonlin:\n",
    "    j = 0\n",
    "    for train_index, test_index in kf.split(x_data):\n",
    "        print(\"TRAIN:\", train_index, \"TEST:\", test_index)\n",
    "        x_train, x_test = x_data[train_index], x_data[test_index]\n",
    "        y_train, y_test = y_data[train_index], y_data[test_index]\n",
    "        for i in range(1,11):\n",
    "            model = Sequential()\n",
    "            # Dense(n) is a fully-connected layer with n hidden units.\n",
    "            # in the first layer, you must specify the expected input data shape:\n",
    "            # here, 1-dimensional vectors.\n",
    "            model.add(Dense(i, activation=activationChoice, input_dim=1))\n",
    "            model.add(Dense(1, activation=None))\n",
    "            sgd = SGD(lr=0.01, decay=1e-6, momentum=0.9, nesterov=True)\n",
    "            model.compile(loss='mean_squared_error',\n",
    "                        optimizer='adam'),\n",
    "                        #metrics =['mean_squared_error'])#metrics=['accuracy'])\n",
    "            converged = 0\n",
    "            tmp = 0\n",
    "            epsilon = .01\n",
    "            while not converged:\n",
    "                model.fit(x_train, y_train, batch_size=128, epochs=50)\n",
    "                score = model.evaluate(x_test, y_test)\n",
    "                converged = np.abs(score-tmp)<epsilon\n",
    "                tmp = score\n",
    "            print(score)\n",
    "            accuracy[j,i-1] = score\n",
    "        j+=1\n",
    "    accuracy2[l,:,:] = accuracy\n",
    "    l+=1"
   ]
  },
  {
   "cell_type": "code",
   "execution_count": 76,
   "metadata": {},
   "outputs": [
    {
     "data": {
      "text/plain": [
       "array([[[4.08151599, 0.66957269, 0.69109931, 0.71834491, 0.62431301,\n",
       "         0.67764143, 0.63079732, 2.92136445, 0.8625786 , 0.89196188],\n",
       "        [3.32557633, 0.75577456, 1.63002162, 0.79213514, 0.7300631 ,\n",
       "         0.73024408, 0.64420995, 2.49356557, 2.49524482, 0.72434085],\n",
       "        [3.50033623, 0.89384289, 0.89998671, 0.69408321, 0.63929091,\n",
       "         0.81611719, 0.65561534, 0.78300329, 2.07380096, 0.67548946],\n",
       "        [3.80708927, 0.74721734, 0.73686176, 0.6927432 , 0.73745317,\n",
       "         0.73539035, 0.69820258, 0.80681216, 0.75416725, 2.55403718],\n",
       "        [3.75718056, 0.82902059, 0.86209238, 0.711318  , 0.76492676,\n",
       "         0.71614063, 0.76606102, 1.02706706, 0.71892631, 0.86215232],\n",
       "        [3.2251746 , 0.58109965, 0.68395115, 1.00891881, 0.56767562,\n",
       "         0.50648118, 0.73826876, 1.02102642, 0.69707997, 0.5397388 ],\n",
       "        [3.32883652, 0.78658073, 0.6866749 , 0.6518848 , 0.86021337,\n",
       "         0.60281974, 0.65415586, 0.7456144 , 0.62659634, 0.72676374],\n",
       "        [3.96311266, 0.89996401, 1.15992611, 0.8163498 , 1.11351909,\n",
       "         0.92930984, 0.83274531, 0.83199793, 1.07696605, 1.14198006],\n",
       "        [3.89591845, 0.68370273, 1.06526246, 0.72350939, 0.69580847,\n",
       "         0.62050288, 0.63080296, 0.61590897, 0.60146387, 0.76293094],\n",
       "        [3.50537426, 0.64729356, 0.69063576, 0.64708283, 0.6501288 ,\n",
       "         0.63016812, 0.55977662, 0.58316115, 0.67592265, 0.68058614]],\n",
       "\n",
       "       [[2.65713133, 2.61441221, 0.85819607, 0.70548187, 0.69034983,\n",
       "         0.53888591, 0.71758559, 0.86524096, 0.55257013, 0.72123008],\n",
       "        [2.97250492, 2.69425692, 1.45298493, 0.97286049, 1.31102484,\n",
       "         0.61411766, 1.56069655, 0.89108801, 0.99423668, 0.89877219],\n",
       "        [2.33658213, 2.50535133, 0.88474357, 0.7238605 , 0.68675036,\n",
       "         0.74283854, 0.73148077, 0.63863465, 0.70483794, 0.64331611],\n",
       "        [2.79078167, 0.66325794, 0.66065723, 0.83413619, 0.75379866,\n",
       "         1.17813632, 0.70316551, 0.71087639, 0.62848679, 0.82885576],\n",
       "        [2.98827948, 2.98128288, 0.91542265, 0.61695454, 0.62926626,\n",
       "         0.60835925, 0.73754028, 1.03457425, 0.80503442, 0.85554665],\n",
       "        [2.41169228, 0.55381879, 1.14373516, 1.00180251, 0.69208263,\n",
       "         0.65587219, 0.72169784, 1.56684392, 0.72705137, 0.66557853],\n",
       "        [2.31168454, 0.71839189, 0.95529282, 0.85464752, 0.81513544,\n",
       "         0.8813707 , 0.82047845, 0.86114789, 0.83821782, 0.74434337],\n",
       "        [2.65766695, 2.85465852, 0.87490628, 0.92235124, 0.93819133,\n",
       "         0.89489941, 0.91521455, 0.74606422, 0.91079398, 0.80588191],\n",
       "        [2.53997066, 0.56824751, 0.73650058, 1.06220509, 0.69595836,\n",
       "         0.75866696, 0.95907219, 0.71093693, 0.70489368, 0.70620113],\n",
       "        [2.51480101, 0.64561067, 0.6250949 , 0.95160545, 0.67929106,\n",
       "         0.78485281, 0.70180987, 0.71336008, 0.79800056, 0.91363335]]])"
      ]
     },
     "execution_count": 76,
     "metadata": {},
     "output_type": "execute_result"
    }
   ],
   "source": [
    "accuracy2"
   ]
  },
  {
   "cell_type": "code",
   "execution_count": 77,
   "metadata": {},
   "outputs": [
    {
     "data": {
      "text/plain": [
       "10"
      ]
     },
     "execution_count": 77,
     "metadata": {},
     "output_type": "execute_result"
    }
   ],
   "source": [
    "model_meansSig = np.mean(accuracy2[0,:,:],axis=1)\n",
    "model_orderSig = (np.argmin(model_meansSig)+1)\n",
    "model_orderSig"
   ]
  },
  {
   "cell_type": "code",
   "execution_count": 78,
   "metadata": {},
   "outputs": [
    {
     "data": {
      "text/plain": [
       "10"
      ]
     },
     "execution_count": 78,
     "metadata": {},
     "output_type": "execute_result"
    }
   ],
   "source": [
    "model_meansSoft = np.mean(accuracy2[1,:,:],axis=1)\n",
    "model_orderSoft = (np.argmin(model_meansSoft)+1)\n",
    "model_orderSoft"
   ]
  },
  {
   "cell_type": "code",
   "execution_count": 94,
   "metadata": {},
   "outputs": [
    {
     "data": {
      "text/plain": [
       "array([1.27691896, 1.4321176 , 1.16315662, 1.22699743, 1.10148856,\n",
       "       0.9569415 , 0.96701404, 1.27658708, 1.02958111, 0.92701299])"
      ]
     },
     "execution_count": 94,
     "metadata": {},
     "output_type": "execute_result"
    }
   ],
   "source": [
    "model_meansSig"
   ]
  },
  {
   "cell_type": "code",
   "execution_count": 79,
   "metadata": {
    "scrolled": true
   },
   "outputs": [
    {
     "data": {
      "text/plain": [
       "<function matplotlib.pyplot.show>"
      ]
     },
     "execution_count": 79,
     "metadata": {},
     "output_type": "execute_result"
    },
    {
     "data": {
      "image/png": "[encoded data removed]",
      "text/plain": [
       "<Figure size 432x288 with 1 Axes>"
      ]
     },
     "metadata": {
      "needs_background": "light"
     },
     "output_type": "display_data"
    }
   ],
   "source": [
    "plt.plot(np.arange(1,11), model_meansSig,'r')\n",
    "plt.plot(np.arange(1,11), model_meansSoft,'b')\n",
    "plt.title('K-fold Model Order selection: K=10, Training set, Preceptron 1-10')\n",
    "plt.xlabel('# Perceptrons')\n",
    "plt.ylabel('MSE')\n",
    "plt.legend(['Sigmoid', 'Softplus'])\n",
    "plt.show"
   ]
  },
  {
   "cell_type": "code",
   "execution_count": 92,
   "metadata": {},
   "outputs": [
    {
     "data": {
      "text/plain": [
       "'sigmoid'"
      ]
     },
     "execution_count": 92,
     "metadata": {},
     "output_type": "execute_result"
    }
   ],
   "source": [
    "if model_meansSoft[model_orderSoft-1]<model_meansSig[model_orderSig-1]:\n",
    "    ActivationChoice = 1\n",
    "    model_order = model_orderSoft\n",
    "else:\n",
    "    ActivationChoice = 0\n",
    "    model_order = model_orderSig\n",
    "ActivationChoice\n",
    "nonlin[ActivationChoice]"
   ]
  },
  {
   "cell_type": "code",
   "execution_count": null,
   "metadata": {
    "scrolled": true
   },
   "outputs": [],
   "source": [
    "model = Sequential()\n",
    "# Dense(n) is a fully-connected layer with n hidden units.\n",
    "# in the first layer, you must specify the expected input data shape:\n",
    "# here, 1-dimensional vectors.\n",
    "model.add(Dense(model_order, activation=nonlin[ActivationChoice], input_dim=1))\n",
    "model.add(Dense(1, activation=None))\n",
    "sgd = SGD(lr=0.01, decay=1e-6, momentum=0.9, nesterov=True)\n",
    "model.compile(loss='mean_squared_error',\n",
    "               optimizer='adam'),\n",
    "               #metrics =['mean_squared_error'])#metrics=['accuracy'])\n",
    "converged = 0\n",
    "tmp = 0\n",
    "epsilon = 0.01\n",
    "while not converged:\n",
    "    model.fit(Xtrain[0,:], Xtrain[1,:], batch_size=128, epochs=50)\n",
    "    score = model.evaluate(Xtest[0,:], Xtest[1,:])\n",
    "    print(score)\n",
    "    print(tmp)\n",
    "    converged = np.abs(score-tmp)<epsilon\n",
    "    tmp = score    \n",
    "print(\"MSE on Test Data: \" + str(score))"
   ]
  },
  {
   "cell_type": "code",
   "execution_count": 95,
   "metadata": {
    "scrolled": true
   },
   "outputs": [
    {
     "data": {
      "text/plain": [
       "0.6606809679985046"
      ]
     },
     "execution_count": 95,
     "metadata": {},
     "output_type": "execute_result"
    }
   ],
   "source": [
    "score"
   ]
  },
  {
   "cell_type": "code",
   "execution_count": 96,
   "metadata": {
    "scrolled": true
   },
   "outputs": [
    {
     "data": {
      "text/plain": [
       "0.6606809679985046"
      ]
     },
     "execution_count": 96,
     "metadata": {},
     "output_type": "execute_result"
    }
   ],
   "source": [
    "tmp"
   ]
  },
  {
   "cell_type": "code",
   "execution_count": 97,
   "metadata": {},
   "outputs": [],
   "source": [
    "Y_pred = model.predict(Xtest[0,:],batch_size=None)"
   ]
  },
  {
   "cell_type": "code",
   "execution_count": 98,
   "metadata": {},
   "outputs": [
    {
     "data": {
      "image/png": "[encoded data removed]",
      "text/plain": [
       "<Figure size 432x288 with 2 Axes>"
      ]
     },
     "metadata": {
      "needs_background": "light"
     },
     "output_type": "display_data"
    }
   ],
   "source": [
    "plt.subplot(121)\n",
    "plt.plot(Xtest[0,:],Xtest[1,:],'.')\n",
    "plt.title('Actual Data')\n",
    "plt.xlabel('x1'); plt.ylabel('x2')\n",
    "plt.subplot(122)\n",
    "plt.title('NN-Output')\n",
    "plt.plot(Xtest[0,:], Y_pred, '.')\n",
    "plt.xlabel('x1');\n",
    "#plotted with nodes = 10"
   ]
  },
  {
   "cell_type": "code",
   "execution_count": 87,
   "metadata": {},
   "outputs": [
    {
     "data": {
      "text/plain": [
       "[<matplotlib.lines.Line2D at 0x1a6e709e50>]"
      ]
     },
     "execution_count": 87,
     "metadata": {},
     "output_type": "execute_result"
    },
    {
     "data": {
      "image/png": "[encoded data removed]",
      "text/plain": [
       "<Figure size 432x288 with 2 Axes>"
      ]
     },
     "metadata": {
      "needs_background": "light"
     },
     "output_type": "display_data"
    }
   ],
   "source": [
    "plt.subplot(121)\n",
    "plt.plot(Xtest[0,:],Xtest[1,:],'.')\n",
    "plt.subplot(122)\n",
    "plt.plot(Xtest[0,:], Y_pred, '.')"
   ]
  },
  {
   "cell_type": "code",
   "execution_count": null,
   "metadata": {
    "scrolled": true
   },
   "outputs": [],
   "source": [
    "model = Sequential()\n",
    "# Dense(n) is a fully-connected layer with n hidden units.\n",
    "# in the first layer, you must specify the expected input data shape:\n",
    "# here, 1-dimensional vectors.\n",
    "model.add(Dense(4, activation='relu', input_dim=1))\n",
    "model.add(Dense(1, activation=None))\n",
    "sgd = SGD(lr=0.01, decay=1e-6, momentum=0.9, nesterov=True)\n",
    "model.compile(loss='mean_squared_error',\n",
    "               optimizer='adam'),\n",
    "               #metrics =['mean_squared_error'])#metrics=['accuracy'])\n",
    "converged = 0\n",
    "tmp = 0\n",
    "epsilon = 0.01\n",
    "while not converged:\n",
    "    model.fit(Xtrain[0,:], Xtrain[1,:], batch_size=128, epochs=50)\n",
    "    score = model.evaluate(Xtest[0,:], Xtest[1,:])\n",
    "    print(score)\n",
    "    print(tmp)\n",
    "    converged = np.abs(score-tmp)<epsilon\n",
    "    tmp = score    \n",
    "print(\"MSE on Test Data: \" + str(score))"
   ]
  },
  {
   "cell_type": "code",
   "execution_count": 124,
   "metadata": {},
   "outputs": [
    {
     "data": {
      "text/plain": [
       "0.6075891286373138"
      ]
     },
     "execution_count": 124,
     "metadata": {},
     "output_type": "execute_result"
    }
   ],
   "source": [
    "score"
   ]
  },
  {
   "cell_type": "code",
   "execution_count": 125,
   "metadata": {},
   "outputs": [],
   "source": [
    "Y_pred = model.predict(Xtest[0,:],batch_size=None)"
   ]
  },
  {
   "cell_type": "code",
   "execution_count": 126,
   "metadata": {},
   "outputs": [
    {
     "data": {
      "image/png": "[encoded data removed]",
      "text/plain": [
       "<Figure size 432x288 with 2 Axes>"
      ]
     },
     "metadata": {
      "needs_background": "light"
     },
     "output_type": "display_data"
    }
   ],
   "source": [
    "plt.subplot(121)\n",
    "plt.plot(Xtest[0,:],Xtest[1,:],'.')\n",
    "plt.title('Actual Data')\n",
    "plt.xlabel('x1'); plt.ylabel('x2')\n",
    "plt.subplot(122)\n",
    "plt.title('NN-Output')\n",
    "plt.plot(Xtest[0,:], Y_pred, '.')\n",
    "plt.xlabel('x1');\n",
    "#plotted with nodes = 10"
   ]
  },
  {
   "cell_type": "code",
   "execution_count": null,
   "metadata": {},
   "outputs": [],
   "source": []
  }
 ],
 "metadata": {
  "kernelspec": {
   "display_name": "Python 2",
   "language": "python",
   "name": "python2"
  },
  "language_info": {
   "codemirror_mode": {
    "name": "ipython",
    "version": 2
   },
   "file_extension": ".py",
   "mimetype": "text/x-python",
   "name": "python",
   "nbconvert_exporter": "python",
   "pygments_lexer": "ipython2",
   "version": "2.7.16"
  }
 },
 "nbformat": 4,
 "nbformat_minor": 2
}
